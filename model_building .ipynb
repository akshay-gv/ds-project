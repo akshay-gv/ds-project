{
  "nbformat": 4,
  "nbformat_minor": 0,
  "metadata": {
    "colab": {
      "provenance": []
    },
    "kernelspec": {
      "name": "python3",
      "display_name": "Python 3"
    },
    "language_info": {
      "name": "python"
    },
    "gpuClass": "standard"
  },
  "cells": [
    {
      "cell_type": "code",
      "execution_count": null,
      "metadata": {
        "id": "Wp8Vl7I4q7zw"
      },
      "outputs": [],
      "source": [
        "import numpy as np\n",
        "import pandas as pd\n",
        "from sklearn.model_selection import train_test_split\n",
        "from sklearn.metrics import classification_report, confusion_matrix, precision_score, f1_score, recall_score, accuracy_score, plot_confusion_matrix\n",
        "from sklearn.feature_extraction.text import TfidfVectorizer , CountVectorizer\n",
        "from sklearn.naive_bayes import MultinomialNB \n",
        "from sklearn.ensemble import RandomForestClassifier , GradientBoostingClassifier\n",
        "from sklearn.tree import DecisionTreeClassifier\n",
        "from xgboost import XGBClassifier\n",
        "from sklearn.neighbors import KNeighborsClassifier\n",
        "from sklearn.metrics import classification_report"
      ]
    },
    {
      "cell_type": "code",
      "source": [
        "df_train_orig = pd.read_csv('https://intro-ds-gv.s3.amazonaws.com/processed_train.csv')\n",
        "df_test_orig = pd.read_csv('https://intro-ds-gv.s3.amazonaws.com/processed_test.csv')\n",
        "df_train_orig = df_train_orig.dropna()\n",
        "df_test_orig = df_test_orig.dropna()"
      ],
      "metadata": {
        "id": "G9d2ak3Br1uW"
      },
      "execution_count": null,
      "outputs": []
    },
    {
      "cell_type": "code",
      "source": [
        "df_train = df_train_orig.copy()\n",
        "df_test = df_test_orig.copy()"
      ],
      "metadata": {
        "id": "xI3MXdEjtV07"
      },
      "execution_count": null,
      "outputs": []
    },
    {
      "cell_type": "code",
      "source": [
        "df_train = df_train[['product' , 'narrative']]\n",
        "df_test = df_test[['product' , 'narrative']]"
      ],
      "metadata": {
        "id": "73YCsx22tetE"
      },
      "execution_count": null,
      "outputs": []
    },
    {
      "cell_type": "markdown",
      "source": [
        "**Updating the products with numbers from 0 to 4**"
      ],
      "metadata": {
        "id": "QHj28Zi9uoMa"
      }
    },
    {
      "cell_type": "code",
      "source": [
        "prod_match_dict ={'debt_collection':0, 'credit_card':1, 'credit_reporting':2,'retail_banking':3, 'mortgages_and_loans':4}\n",
        "df_train['product'].replace(prod_match_dict, inplace=True)\n",
        "df_test['product'].replace(prod_match_dict, inplace=True)"
      ],
      "metadata": {
        "id": "2_U4kD7xunXR"
      },
      "execution_count": null,
      "outputs": []
    },
    {
      "cell_type": "code",
      "source": [
        "print(df_train.tail())\n",
        "print('----------------------------------')\n",
        "print(df_test.tail())"
      ],
      "metadata": {
        "colab": {
          "base_uri": "https://localhost:8080/"
        },
        "id": "C6NQ0taYvNUf",
        "outputId": "2818624f-0756-4ca6-a874-af80119505ce"
      },
      "execution_count": null,
      "outputs": [
        {
          "output_type": "stream",
          "name": "stdout",
          "text": [
            "        product                                          narrative\n",
            "485760        2  loan turned loan opened calling payment day ag...\n",
            "485761        3  personal business customer key bank year busin...\n",
            "485762        0  ca tx using illegal fraudulent collect debt am...\n",
            "485763        0  today received call southwest credit system se...\n",
            "485764        4  qwr notice error att sn servicing corporation ...\n",
            "----------------------------------\n",
            "        product                                          narrative\n",
            "292329        2  nelnet never report payment made credit bureau...\n",
            "292330        2  submitting complaint third party involved pati...\n",
            "292331        0  attentively review formal writ composed declar...\n",
            "292332        2  writing dispute following information report c...\n",
            "292333        2  submitted dispute claim requesting sent verifi...\n"
          ]
        }
      ]
    },
    {
      "cell_type": "code",
      "source": [
        "X = df_train.drop(['product'], axis=1)\n",
        "y = df_train['product']\n",
        "X_real = df_test.drop(['product'], axis=1)\n",
        "y_real = df_test['product']\n",
        "X_train, X_test, y_train, y_test = train_test_split(X['narrative'], y, test_size=0.20, random_state=200)"
      ],
      "metadata": {
        "id": "u_a5xUwqvvIx"
      },
      "execution_count": null,
      "outputs": []
    },
    {
      "cell_type": "code",
      "source": [
        "vectorizer = TfidfVectorizer(ngram_range=(1,2), max_features=1000000)\n",
        "vect_X_train = vectorizer.fit_transform(X_train)\n",
        "vect_X_test = vectorizer.transform(X_test)"
      ],
      "metadata": {
        "id": "t1Z2dxb6xubg"
      },
      "execution_count": null,
      "outputs": []
    },
    {
      "cell_type": "code",
      "source": [
        "def scoring(y_real, y_pred):\n",
        "    accuracy = accuracy_score(y_real, y_pred)\n",
        "    precision = precision_score(y_real, y_pred, average='macro')\n",
        "    recall = recall_score(y_real, y_pred, average='macro')\n",
        "    f1 = f1_score(y_real, y_pred, average='macro')\n",
        "\n",
        "    print(\"Accuracy: {:.1%}\".format(accuracy))\n",
        "    print(\"Precision: {:.1%}\".format(precision))\n",
        "    print(\"Recall: {:.1%}\".format(recall))\n",
        "    print(\"F1: {:.1%}\".format(f1))"
      ],
      "metadata": {
        "id": "uN82qLDT7xTr"
      },
      "execution_count": null,
      "outputs": []
    },
    {
      "cell_type": "markdown",
      "source": [
        "# Decision tree model"
      ],
      "metadata": {
        "id": "lp7HLS1g-_oI"
      }
    },
    {
      "cell_type": "code",
      "source": [
        "dtree = DecisionTreeClassifier(max_depth=20)\n",
        "dtree.fit(vect_X_train, y_train)"
      ],
      "metadata": {
        "colab": {
          "base_uri": "https://localhost:8080/"
        },
        "id": "LNo3C3U---2d",
        "outputId": "6876409e-c847-47ae-d240-777a11774886"
      },
      "execution_count": null,
      "outputs": [
        {
          "output_type": "execute_result",
          "data": {
            "text/plain": [
              "DecisionTreeClassifier(max_depth=20)"
            ]
          },
          "metadata": {},
          "execution_count": 13
        }
      ]
    },
    {
      "cell_type": "code",
      "source": [
        "test_y_pred = dtree.predict(vect_X_test)\n",
        "scoring(y_test, test_y_pred)"
      ],
      "metadata": {
        "colab": {
          "base_uri": "https://localhost:8080/"
        },
        "id": "nwOZ1gMw_ILA",
        "outputId": "757f01ee-28ec-4246-bfa5-87bb28fa7fa1"
      },
      "execution_count": null,
      "outputs": [
        {
          "output_type": "stream",
          "name": "stdout",
          "text": [
            "Accuracy: 81.3%\n",
            "Precision: 78.4%\n",
            "Recall: 74.8%\n",
            "F1: 76.4%\n"
          ]
        }
      ]
    },
    {
      "cell_type": "markdown",
      "source": [
        "# Random Forest model"
      ],
      "metadata": {
        "id": "D42AH6I78S8p"
      }
    },
    {
      "cell_type": "code",
      "source": [
        "rdmfst = RandomForestClassifier(max_depth=20)\n",
        "rdmfst.fit(vect_X_train, y_train)"
      ],
      "metadata": {
        "colab": {
          "base_uri": "https://localhost:8080/"
        },
        "id": "RVXlZLFN8SKW",
        "outputId": "532718ac-60e1-47f5-d74b-26508b067fdd"
      },
      "execution_count": null,
      "outputs": [
        {
          "output_type": "execute_result",
          "data": {
            "text/plain": [
              "RandomForestClassifier(max_depth=20)"
            ]
          },
          "metadata": {},
          "execution_count": 14
        }
      ]
    },
    {
      "cell_type": "code",
      "source": [
        "test_y_pred = rdmfst.predict(vect_X_test)\n",
        "scoring(y_test, test_y_pred)"
      ],
      "metadata": {
        "colab": {
          "base_uri": "https://localhost:8080/"
        },
        "id": "IYko0vTN8evn",
        "outputId": "b669eb89-48a4-4918-f527-4182d1c68ef9"
      },
      "execution_count": null,
      "outputs": [
        {
          "output_type": "stream",
          "name": "stdout",
          "text": [
            "Accuracy: 53.9%\n",
            "Precision: 83.6%\n",
            "Recall: 23.0%\n",
            "F1: 19.6%\n"
          ]
        }
      ]
    },
    {
      "cell_type": "markdown",
      "source": [
        "# Naive Bayes model"
      ],
      "metadata": {
        "id": "gqI3WxFV1Xp7"
      }
    },
    {
      "cell_type": "code",
      "source": [
        "NB = MultinomialNB()\n",
        "NB.fit(vect_X_train, y_train)"
      ],
      "metadata": {
        "colab": {
          "base_uri": "https://localhost:8080/"
        },
        "id": "24bC6Fnv1d6t",
        "outputId": "dbdb3b59-3fd3-4d73-cc22-6cd35f03913a"
      },
      "execution_count": null,
      "outputs": [
        {
          "output_type": "execute_result",
          "data": {
            "text/plain": [
              "MultinomialNB()"
            ]
          },
          "metadata": {},
          "execution_count": 15
        }
      ]
    },
    {
      "cell_type": "code",
      "source": [
        "test_y_pred = NB.predict(vect_X_test)"
      ],
      "metadata": {
        "id": "2kD2l-5m6-il"
      },
      "execution_count": null,
      "outputs": []
    },
    {
      "cell_type": "code",
      "source": [
        "scoring(y_test, test_y_pred)"
      ],
      "metadata": {
        "colab": {
          "base_uri": "https://localhost:8080/"
        },
        "id": "WjviFT_g7GPR",
        "outputId": "2df569d0-47cd-4690-f096-bc6d23d767d0"
      },
      "execution_count": null,
      "outputs": [
        {
          "output_type": "stream",
          "name": "stdout",
          "text": [
            "Accuracy: 82.3%\n",
            "Precision: 85.5%\n",
            "Recall: 73.2%\n",
            "F1: 77.6%\n"
          ]
        }
      ]
    },
    {
      "cell_type": "markdown",
      "source": [
        "# K Nearest neighbour"
      ],
      "metadata": {
        "id": "uE8qxqpC_QRD"
      }
    },
    {
      "cell_type": "code",
      "source": [
        "n = KNeighborsClassifier(n_neighbors=5, weights='distance')\n",
        "n.fit(vect_X_train, y_train)"
      ],
      "metadata": {
        "colab": {
          "base_uri": "https://localhost:8080/"
        },
        "id": "lCNX00n6_VYD",
        "outputId": "5b4259b6-51b2-492f-e69e-c4389ae680b7"
      },
      "execution_count": null,
      "outputs": [
        {
          "output_type": "execute_result",
          "data": {
            "text/plain": [
              "KNeighborsClassifier(weights='distance')"
            ]
          },
          "metadata": {},
          "execution_count": 16
        }
      ]
    },
    {
      "cell_type": "code",
      "source": [
        "test_y_pred = n.predict(vect_X_test)\n",
        "scoring(y_test, test_y_pred)"
      ],
      "metadata": {
        "colab": {
          "base_uri": "https://localhost:8080/"
        },
        "id": "Mw-SGEiK_gaM",
        "outputId": "08aa67e1-7948-49a0-d3c1-465eacb5e18e"
      },
      "execution_count": null,
      "outputs": [
        {
          "output_type": "stream",
          "name": "stdout",
          "text": [
            "Accuracy: 56.6%\n",
            "Precision: 42.9%\n",
            "Recall: 29.7%\n",
            "F1: 30.0%\n"
          ]
        }
      ]
    },
    {
      "cell_type": "markdown",
      "source": [
        "# XG Boost Model"
      ],
      "metadata": {
        "id": "s4FQ_bFUAEcd"
      }
    },
    {
      "cell_type": "code",
      "source": [
        "xgb = XGBClassifier()\n",
        "xgb.fit(vect_X_train, y_train)"
      ],
      "metadata": {
        "id": "G20x3PoaAHnL",
        "colab": {
          "base_uri": "https://localhost:8080/"
        },
        "outputId": "46f191c1-f505-4993-f029-1e54734cf34c"
      },
      "execution_count": null,
      "outputs": [
        {
          "output_type": "execute_result",
          "data": {
            "text/plain": [
              "XGBClassifier(objective='multi:softprob')"
            ]
          },
          "metadata": {},
          "execution_count": 10
        }
      ]
    },
    {
      "cell_type": "code",
      "source": [
        "test_y_pred = xgb.predict(vect_X_test)\n",
        "scoring(y_test, test_y_pred)"
      ],
      "metadata": {
        "id": "beSHQ6CqANi1",
        "colab": {
          "base_uri": "https://localhost:8080/"
        },
        "outputId": "d8d7d1f2-d9e1-4101-d756-131a51766230"
      },
      "execution_count": null,
      "outputs": [
        {
          "output_type": "stream",
          "name": "stdout",
          "text": [
            "Accuracy: 81.6%\n",
            "Precision: 80.5%\n",
            "Recall: 75.8%\n",
            "F1: 78.0%\n"
          ]
        }
      ]
    },
    {
      "cell_type": "code",
      "source": [
        "dt_Accuracy = 81.3\n",
        "dt_Precision = 78.4\n",
        "dt_Recall = 74.8\n",
        "dt_F1 = 76.4\n",
        "\n",
        "rf_Accuracy = 53.9\n",
        "rf_Precision = 83.6\n",
        "rf_Recall = 23.0\n",
        "rf_F1 = 19.6\n",
        "\n",
        "nb_Accuracy = 82.3\n",
        "nb_Precision = 85.5\n",
        "nb_Recall = 73.2\n",
        "nb_F1 = 77.6\n",
        "\n",
        "knn_Accuracy = 56.6\n",
        "knn_Precision = 42.9\n",
        "knn_Recall = 29.7\n",
        "knn_F1 = 30.0\n",
        "\n",
        "xgb_Accuracy = 81.6\n",
        "xgb_Precision = 80.5\n",
        "xgb_Recall = 75.8\n",
        "xgb_F1 = 78.0\n",
        "# initialize list of lists\n",
        "results = [['Decision Tree', dt_Accuracy,dt_Precision,dt_Recall,dt_F1], ['Random Forest', rf_Accuracy,rf_Precision,rf_Recall,rf_F1], ['Naive Bayes', nb_Accuracy,nb_Precision,nb_Recall,nb_F1],\n",
        "           ['KNN', knn_Accuracy,knn_Precision,knn_Recall,knn_F1], ['XG Boost',xgb_Accuracy,xgb_Precision,xgb_Recall,xgb_F1] ]\n",
        " \n",
        "# Create the pandas DataFrame\n",
        "results_df = pd.DataFrame(results, columns=['Model', 'Accuracy','Precision','Recall','F1 Score'])\n",
        " \n",
        "results_df.set_index('Model').plot.bar(figsize=(14, 10))"
      ],
      "metadata": {
        "colab": {
          "base_uri": "https://localhost:8080/",
          "height": 687
        },
        "id": "_1Unr2alc4Sf",
        "outputId": "6ddb2f51-e21e-4096-b40f-6e5e83c6f40c"
      },
      "execution_count": null,
      "outputs": [
        {
          "output_type": "execute_result",
          "data": {
            "text/plain": [
              "<matplotlib.axes._subplots.AxesSubplot at 0x7f7ddc950e50>"
            ]
          },
          "metadata": {},
          "execution_count": 104
        },
        {
          "output_type": "display_data",
          "data": {
            "text/plain": [
              "<Figure size 1008x720 with 1 Axes>"
            ],
            "image/png": "[encoded data removed]"
          },
          "metadata": {
            "needs_background": "light"
          }
        }
      ]
    },
    {
      "cell_type": "markdown",
      "source": [
        "From the above graph we can see that random forest and KNN perform very poorly. Hence eliminating them."
      ],
      "metadata": {
        "id": "PxYqtb3OgEvX"
      }
    },
    {
      "cell_type": "markdown",
      "source": [
        "# Testing on Real data"
      ],
      "metadata": {
        "id": "pItKBaUgd5j9"
      }
    },
    {
      "cell_type": "code",
      "source": [
        "vectorizer_real = TfidfVectorizer(ngram_range=(1,2), max_features=1000000)\n",
        "vect_X_real = vectorizer_real.fit_transform(X_real.squeeze())"
      ],
      "metadata": {
        "id": "c-ZEwx2nknHA"
      },
      "execution_count": null,
      "outputs": []
    },
    {
      "cell_type": "markdown",
      "source": [
        "Decision Tree"
      ],
      "metadata": {
        "id": "ee7bCBSpeHqt"
      }
    },
    {
      "cell_type": "code",
      "source": [
        "real_y_pred = dtree.predict(vect_X_real)\n",
        "scoring(y_real, real_y_pred)"
      ],
      "metadata": {
        "colab": {
          "base_uri": "https://localhost:8080/"
        },
        "id": "1O3cwQgZd-JX",
        "outputId": "e125945b-d01f-48a4-af42-3cf0c183cf6a"
      },
      "execution_count": null,
      "outputs": [
        {
          "output_type": "stream",
          "name": "stdout",
          "text": [
            "Accuracy: 67.1%\n",
            "Precision: 32.0%\n",
            "Recall: 20.0%\n",
            "F1: 16.1%\n"
          ]
        }
      ]
    },
    {
      "cell_type": "markdown",
      "source": [
        "Random Forest "
      ],
      "metadata": {
        "id": "3dK_-gG2mlI4"
      }
    },
    {
      "cell_type": "code",
      "source": [
        "real_y_pred = rdmfst.predict(vect_X_real)\n",
        "scoring(y_real, real_y_pred)"
      ],
      "metadata": {
        "colab": {
          "base_uri": "https://localhost:8080/"
        },
        "id": "urYWivhqmosE",
        "outputId": "2189dfde-80a8-412e-be6f-ef1611c15b07"
      },
      "execution_count": null,
      "outputs": [
        {
          "output_type": "stream",
          "name": "stdout",
          "text": [
            "Accuracy: 67.1%\n",
            "Precision: 13.4%\n",
            "Recall: 20.0%\n",
            "F1: 16.1%\n"
          ]
        },
        {
          "output_type": "stream",
          "name": "stderr",
          "text": [
            "/usr/local/lib/python3.8/dist-packages/sklearn/metrics/_classification.py:1318: UndefinedMetricWarning: Precision is ill-defined and being set to 0.0 in labels with no predicted samples. Use `zero_division` parameter to control this behavior.\n",
            "  _warn_prf(average, modifier, msg_start, len(result))\n"
          ]
        }
      ]
    },
    {
      "cell_type": "markdown",
      "source": [
        "Naive Bayes"
      ],
      "metadata": {
        "id": "YHvC9sDim3ss"
      }
    },
    {
      "cell_type": "code",
      "source": [
        "real_y_pred = NB.predict(vect_X_real)\n",
        "scoring(y_real, real_y_pred)"
      ],
      "metadata": {
        "colab": {
          "base_uri": "https://localhost:8080/"
        },
        "id": "JU33Mks0m6mq",
        "outputId": "014142b6-f2d9-4a15-b3cb-1ef73514e278"
      },
      "execution_count": null,
      "outputs": [
        {
          "output_type": "stream",
          "name": "stdout",
          "text": [
            "Accuracy: 17.0%\n",
            "Precision: 27.4%\n",
            "Recall: 31.0%\n",
            "F1: 17.4%\n"
          ]
        }
      ]
    },
    {
      "cell_type": "markdown",
      "source": [
        "K Nearest neighbour"
      ],
      "metadata": {
        "id": "7ZKMxHnOnFzS"
      }
    },
    {
      "cell_type": "code",
      "source": [
        "real_y_pred = n.predict(vect_X_real)\n",
        "scoring(y_real, real_y_pred)"
      ],
      "metadata": {
        "colab": {
          "base_uri": "https://localhost:8080/"
        },
        "id": "pQThAaBbnGwa",
        "outputId": "05a63498-396e-4cc3-8c3c-1aea9a30dfe5"
      },
      "execution_count": null,
      "outputs": [
        {
          "output_type": "stream",
          "name": "stdout",
          "text": [
            "Accuracy: 55.2%\n",
            "Precision: 20.3%\n",
            "Recall: 20.3%\n",
            "F1: 19.5%\n"
          ]
        }
      ]
    },
    {
      "cell_type": "markdown",
      "source": [
        "XG Boost"
      ],
      "metadata": {
        "id": "IGh-7E2gnc2k"
      }
    },
    {
      "cell_type": "code",
      "source": [
        "real_y_pred = xgb.predict(vect_X_real)\n",
        "scoring(y_real, real_y_pred)"
      ],
      "metadata": {
        "colab": {
          "base_uri": "https://localhost:8080/"
        },
        "id": "i7G6OKqundeA",
        "outputId": "d040f133-836c-4228-87c9-3c8f50c3d694"
      },
      "execution_count": null,
      "outputs": [
        {
          "output_type": "stream",
          "name": "stdout",
          "text": [
            "Accuracy: 67.1%\n",
            "Precision: 26.9%\n",
            "Recall: 20.0%\n",
            "F1: 16.1%\n"
          ]
        }
      ]
    },
    {
      "cell_type": "markdown",
      "source": [
        "#Trying Count vectorizer and TFIDF with different max_features"
      ],
      "metadata": {
        "id": "CIUobjHSxTE5"
      }
    },
    {
      "cell_type": "code",
      "source": [
        "real_X = df_test['narrative']\n",
        "real_y = df_test['product']"
      ],
      "metadata": {
        "id": "pLJyLycHyE1m"
      },
      "execution_count": null,
      "outputs": []
    },
    {
      "cell_type": "markdown",
      "source": [
        "Gradient Boosting with TFIDF and max_feature 20,000"
      ],
      "metadata": {
        "id": "QsYs9z190vvv"
      }
    },
    {
      "cell_type": "code",
      "source": [
        "gb_vectorizer = TfidfVectorizer(max_features=20000)\n",
        "vect_X_train = gb_vectorizer.fit_transform(X_train)\n",
        "vect_X_test = gb_vectorizer.transform(real_X)\n",
        "gb = GradientBoostingClassifier(random_state=999, max_depth=5)\n",
        "gb.fit(vect_X_train, y_train)"
      ],
      "metadata": {
        "colab": {
          "base_uri": "https://localhost:8080/"
        },
        "id": "HjY8J8Gk03_8",
        "outputId": "faba1c31-aab9-4904-cb8f-b52c7c2bacc1"
      },
      "execution_count": null,
      "outputs": [
        {
          "output_type": "execute_result",
          "data": {
            "text/plain": [
              "GradientBoostingClassifier(max_depth=5, random_state=999)"
            ]
          },
          "metadata": {},
          "execution_count": 14
        }
      ]
    },
    {
      "cell_type": "code",
      "source": [
        "gb_vectorizer = TfidfVectorizer(max_features=20000)\n",
        "vect_X_train = gb_vectorizer.fit_transform(X_train)\n",
        "vect_X_test = gb_vectorizer.transform(real_X)"
      ],
      "metadata": {
        "id": "WI_E58xwxyWi"
      },
      "execution_count": null,
      "outputs": []
    },
    {
      "cell_type": "code",
      "source": [
        "real_y_pred = gb.predict(vect_X_test)\n",
        "scoring(y_real, real_y_pred)"
      ],
      "metadata": {
        "colab": {
          "base_uri": "https://localhost:8080/"
        },
        "id": "4m1o1JeC1gQT",
        "outputId": "5bcef9ca-c6d0-4a90-a14a-a8166cd6347e"
      },
      "execution_count": null,
      "outputs": [
        {
          "output_type": "stream",
          "name": "stdout",
          "text": [
            "Accuracy: 88.0%\n",
            "Precision: 82.4%\n",
            "Recall: 78.2%\n",
            "F1: 80.2%\n"
          ]
        }
      ]
    },
    {
      "cell_type": "code",
      "source": [
        "print(classification_report(y_real ,real_y_pred))"
      ],
      "metadata": {
        "colab": {
          "base_uri": "https://localhost:8080/"
        },
        "id": "mJpfcuLH3CPA",
        "outputId": "72b1138a-99b2-49fc-a2d0-e6c8720c580f"
      },
      "execution_count": null,
      "outputs": [
        {
          "output_type": "stream",
          "name": "stdout",
          "text": [
            "              precision    recall  f1-score   support\n",
            "\n",
            "           0       0.74      0.66      0.69     30890\n",
            "           1       0.76      0.69      0.72     19440\n",
            "           2       0.91      0.95      0.93    196091\n",
            "           3       0.88      0.84      0.86     23161\n",
            "           4       0.83      0.77      0.80     22741\n",
            "\n",
            "    accuracy                           0.88    292323\n",
            "   macro avg       0.82      0.78      0.80    292323\n",
            "weighted avg       0.88      0.88      0.88    292323\n",
            "\n"
          ]
        }
      ]
    },
    {
      "cell_type": "markdown",
      "source": [
        "Naive Bayes model"
      ],
      "metadata": {
        "id": "JaM4wRTKybxG"
      }
    },
    {
      "cell_type": "code",
      "source": [
        "nb_vectorizer = CountVectorizer(ngram_range=(1,2), max_features=80000)\n",
        "vect_X_train = nb_vectorizer.fit_transform(X_train)\n",
        "vect_X_test = nb_vectorizer.transform(real_X)\n",
        "nb = MultinomialNB(alpha=0.45)"
      ],
      "metadata": {
        "id": "aNshnAb9xijt"
      },
      "execution_count": null,
      "outputs": []
    },
    {
      "cell_type": "code",
      "source": [
        "nb.fit(vect_X_train, y_train)\n",
        "real_y_pred = nb.predict(vect_X_test)\n",
        "scoring(y_real, real_y_pred)"
      ],
      "metadata": {
        "colab": {
          "base_uri": "https://localhost:8080/"
        },
        "id": "-YjX9pfnzFJj",
        "outputId": "4e905ad2-f0f7-48eb-f82c-d7382c31ddb7"
      },
      "execution_count": null,
      "outputs": [
        {
          "output_type": "stream",
          "name": "stdout",
          "text": [
            "Accuracy: 85.1%\n",
            "Precision: 74.5%\n",
            "Recall: 81.5%\n",
            "F1: 77.6%\n"
          ]
        }
      ]
    },
    {
      "cell_type": "markdown",
      "source": [
        "Naive bias performs better with count vectoriser and max features of 80,000 with a F1 of 77.6%\n",
        "\n",
        "But Gradient boosting performs better than Naive Bais with TFIDF vectoriser and max features of 20,000.\n",
        "\n",
        "The caviat with Gradient boosting is that it takes longer than Naive bais for the training and prediction. But  that trade-off can be accepted with better accuracy.\n",
        "\n",
        "Hence finalizing Gradient boosting as a the model to be deployed.\n",
        "\n",
        "The models are saved using Pickle to be reused.\n"
      ],
      "metadata": {
        "id": "qWWjbrJ5gYdE"
      }
    },
    {
      "cell_type": "code",
      "source": [
        "# saving  model\n",
        "import pickle\n",
        "filename='GBC.sav'\n",
        "pickle.dump(gb, open(filename, 'wb'))\n",
        "pickle.dump(gb_vectorizer, open('TFIDF_Vect.pkl', 'wb'))"
      ],
      "metadata": {
        "id": "yem31N3vRBk0"
      },
      "execution_count": null,
      "outputs": []
    }
  ]
}