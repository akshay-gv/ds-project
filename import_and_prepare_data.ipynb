{
  "cells": [
    {
      "cell_type": "markdown",
      "metadata": {
        "id": "J42ep_Cy09yS"
      },
      "source": [
        "# Import and inspect data"
      ]
    },
    {
      "cell_type": "code",
      "execution_count": null,
      "metadata": {
        "colab": {
          "base_uri": "https://localhost:8080/"
        },
        "id": "P-Ek7X9009yV",
        "outputId": "bc28265f-0bdc-4db3-a66d-c223dc59610f"
      },
      "outputs": [
        {
          "output_type": "stream",
          "name": "stderr",
          "text": [
            "[nltk_data] Downloading package stopwords to /root/nltk_data...\n",
            "[nltk_data]   Package stopwords is already up-to-date!\n",
            "[nltk_data] Downloading package punkt to /root/nltk_data...\n",
            "[nltk_data]   Package punkt is already up-to-date!\n",
            "[nltk_data] Downloading package wordnet to /root/nltk_data...\n",
            "[nltk_data]   Package wordnet is already up-to-date!\n",
            "[nltk_data] Downloading package omw-1.4 to /root/nltk_data...\n"
          ]
        }
      ],
      "source": [
        "import nltk\n",
        "import requests\n",
        "import string\n",
        "import numpy as np\n",
        "import pandas as pd\n",
        "from tqdm import tqdm\n",
        "from nltk import word_tokenize\n",
        "from nltk.corpus import stopwords\n",
        "from nltk.stem.wordnet import WordNetLemmatizer\n",
        "from sklearn.feature_extraction.text import TfidfVectorizer, CountVectorizer\n",
        "nltk.download('stopwords')\n",
        "nltk.download('punkt')\n",
        "nltk.download('wordnet')\n",
        "nltk.download('omw-1.4')"
      ]
    },
    {
      "cell_type": "code",
      "execution_count": null,
      "metadata": {
        "id": "2-vsJgii09yW",
        "colab": {
          "base_uri": "https://localhost:8080/"
        },
        "outputId": "b75f962b-1969-4336-ab39-31eff61739b9"
      },
      "outputs": [
        {
          "output_type": "execute_result",
          "data": {
            "text/plain": [
              "885055048"
            ]
          },
          "metadata": {},
          "execution_count": 3
        }
      ],
      "source": [
        "# downloading 3 years data (2021-11-01 - 2018-11-01) from govt api \n",
        "TRAIN_URL = \"https://www.consumerfinance.gov/data-research/consumer-complaints/search/api/v1/?date_received_max=2021-11-01&date_received_min=2018-11-01&field=all&format=csv&no_aggs=true&size=1171706&sort=created_date_desc\"\n",
        "r = requests.get(TRAIN_URL)\n",
        "open('data.csv', 'wb').write(r.content)"
      ]
    },
    {
      "cell_type": "code",
      "source": [
        "#loading data as data frame\n",
        "df_orig = pd.read_csv('data.csv')\n",
        "df = df_orig.copy()"
      ],
      "metadata": {
        "id": "zGB1e_unCqRw"
      },
      "execution_count": null,
      "outputs": []
    },
    {
      "cell_type": "markdown",
      "source": [
        "**Inspecting Data:**"
      ],
      "metadata": {
        "id": "UCqDj-KKDRDG"
      }
    },
    {
      "cell_type": "code",
      "execution_count": null,
      "metadata": {
        "id": "Nt1a0cSi_OwN"
      },
      "outputs": [],
      "source": [
        "# removing rows which have no narrative\n",
        "df = df.dropna(subset=['Consumer complaint narrative'])"
      ]
    },
    {
      "cell_type": "markdown",
      "source": [
        "Picking \"Product ,Consumer complaint narrative\" for the model"
      ],
      "metadata": {
        "id": "IC79ahbeDbmE"
      }
    },
    {
      "cell_type": "code",
      "execution_count": null,
      "metadata": {
        "id": "dbHVcVkI09yY"
      },
      "outputs": [],
      "source": [
        "df = df[['Product', 'Consumer complaint narrative']]"
      ]
    },
    {
      "cell_type": "markdown",
      "source": [
        "**Renameing the colums:**"
      ],
      "metadata": {
        "id": "i1IfoLqADwoa"
      }
    },
    {
      "cell_type": "code",
      "execution_count": null,
      "metadata": {
        "id": "j5CLBd6209yY"
      },
      "outputs": [],
      "source": [
        "df = df.rename(columns={\"Product\": \"product\",  \"Consumer complaint narrative\": \"narrative\"})"
      ]
    },
    {
      "cell_type": "code",
      "execution_count": null,
      "metadata": {
        "id": "Uir_acw709yb"
      },
      "outputs": [],
      "source": [
        "# stopwords to be removed\n",
        "sw_lst = stopwords.words('english') + list(string.punctuation) + ['--', 'xxxx',\"''\", '\"\"', '...', '``']"
      ]
    },
    {
      "cell_type": "markdown",
      "source": [
        "Catogarising the data into 5 main departments:\n",
        "1. Credit reporting\n",
        "2. Debt collection\n",
        "3. Mortgage and Loans\n",
        "4. Retail Banking\n",
        "5. Credit card"
      ],
      "metadata": {
        "id": "GY225_E4mqaM"
      }
    },
    {
      "cell_type": "code",
      "execution_count": null,
      "metadata": {
        "id": "2C-nt7eC09yk",
        "colab": {
          "base_uri": "https://localhost:8080/"
        },
        "outputId": "e1a9cea9-ccad-418d-95aa-890ae78e8d3c"
      },
      "outputs": [
        {
          "output_type": "execute_result",
          "data": {
            "text/plain": [
              "credit_reporting       251929\n",
              "debt_collection         82338\n",
              "mortgages_and_loans     63202\n",
              "credit_card             45162\n",
              "retail_banking          43134\n",
              "Name: product, dtype: int64"
            ]
          },
          "metadata": {},
          "execution_count": 38
        }
      ],
      "source": [
        "df['product'].replace({'Credit reporting, credit repair services, or other personal consumer reports': 'credit_reporting',\n",
        "                       'Credit reporting': 'credit_reporting',\n",
        "                       'Debt collection': 'debt_collection',\n",
        "                       'Credit card or prepaid card': 'credit_card',\n",
        "                       'Prepaid card': 'credit_card',\n",
        "                       'Credit card': 'credit_card',\n",
        "                       'Mortgage': 'mortgage',\n",
        "                       'Checking or savings account': 'retail_banking',\n",
        "                       'Money transfer, virtual currency, or money service': 'retail_banking',\n",
        "                       'Other financial service':'retail_banking',\n",
        "                       'Virtual currency':'retail_banking',\n",
        "                       'Money transfers':'retail_banking',\n",
        "                       'Bank account or service': 'retail_banking',\n",
        "                       'Vehicle loan or lease': 'loans',\n",
        "                       'Consumer Loan': 'loans',\n",
        "                       'Payday loan': 'loans',\n",
        "                       'Payday loan, title loan, or personal loan': 'loans',\n",
        "                       'Student loan': 'loans'}, inplace=True)\n",
        "df['product'].replace({'mortgage': 'mortgages_and_loans',\n",
        "                       'loans': 'mortgages_and_loans'}, inplace=True)\n",
        "df['product'].value_counts()"
      ]
    },
    {
      "cell_type": "code",
      "source": [
        "def process_txt(txt):\n",
        "    tokens = nltk.word_tokenize(txt)\n",
        "    sw_rmd = [token.lower() for token in tokens if token.lower() not in sw_lst]\n",
        "    sw_punc_num_rmd = [w for w in sw_rmd if w.isalpha()]\n",
        "    return sw_punc_num_rmd  "
      ],
      "metadata": {
        "id": "UbDJ-NysMn5h"
      },
      "execution_count": null,
      "outputs": []
    },
    {
      "cell_type": "code",
      "execution_count": null,
      "metadata": {
        "id": "atzHLAie09ym"
      },
      "outputs": [],
      "source": [
        "def join_complaints(lst):\n",
        "    words = ''\n",
        "    for word in lst:\n",
        "        words += word + ' '\n",
        "    return words.strip()\n",
        "\n",
        "# lemmatization of the words\n",
        "lzm = WordNetLemmatizer()\n",
        "\n",
        "def grouping(lst):\n",
        "    lst = [i for i in lst if i is not np.nan]\n",
        "    words = []\n",
        "    for i, word in enumerate(lst):\n",
        "        words.append(lzm.lemmatize(word))\n",
        "    joined_complaint = join_complaints(words)\n",
        "    return joined_complaint"
      ]
    },
    {
      "cell_type": "code",
      "execution_count": null,
      "metadata": {
        "id": "ppU0kvCd09yr",
        "colab": {
          "base_uri": "https://localhost:8080/",
          "height": 310
        },
        "outputId": "e69d8719-7329-4afa-8c9f-040092e04a82"
      },
      "outputs": [
        {
          "output_type": "stream",
          "name": "stderr",
          "text": [
            "  0%|          | 0/485765 [00:00<?, ?it/s]/usr/local/lib/python3.8/dist-packages/pandas/core/indexing.py:1732: SettingWithCopyWarning: \n",
            "A value is trying to be set on a copy of a slice from a DataFrame\n",
            "\n",
            "See the caveats in the documentation: https://pandas.pydata.org/pandas-docs/stable/user_guide/indexing.html#returning-a-view-versus-a-copy\n",
            "  self._setitem_single_block(indexer, value, name)\n",
            "100%|██████████| 485765/485765 [1:43:48<00:00, 77.99it/s]\n"
          ]
        },
        {
          "output_type": "execute_result",
          "data": {
            "text/plain": [
              "   level_0  index           product  \\\n",
              "0        0      0   debt_collection   \n",
              "1        1      6       credit_card   \n",
              "2        2      8  credit_reporting   \n",
              "3        3     10  credit_reporting   \n",
              "4        4     12  credit_reporting   \n",
              "\n",
              "                                           narrative  \n",
              "0  bill visit time visit receiving insurance addi...  \n",
              "1  issue payment time got dinged even though requ...  \n",
              "2  avictimof possibly even fraudulent misinformat...  \n",
              "3  inquiry credit report fraudulent ssn credit re...  \n",
              "4  may concern filing complaint experian wrote le...  "
            ],
            "text/html": [
              "\n",
              "  <div id=\"df-3981d272-9649-44ff-9550-10018d65341f\">\n",
              "    <div class=\"colab-df-container\">\n",
              "      <div>\n",
              "<style scoped>\n",
              "    .dataframe tbody tr th:only-of-type {\n",
              "        vertical-align: middle;\n",
              "    }\n",
              "\n",
              "    .dataframe tbody tr th {\n",
              "        vertical-align: top;\n",
              "    }\n",
              "\n",
              "    .dataframe thead th {\n",
              "        text-align: right;\n",
              "    }\n",
              "</style>\n",
              "<table border=\"1\" class=\"dataframe\">\n",
              "  <thead>\n",
              "    <tr style=\"text-align: right;\">\n",
              "      <th></th>\n",
              "      <th>level_0</th>\n",
              "      <th>index</th>\n",
              "      <th>product</th>\n",
              "      <th>narrative</th>\n",
              "    </tr>\n",
              "  </thead>\n",
              "  <tbody>\n",
              "    <tr>\n",
              "      <th>0</th>\n",
              "      <td>0</td>\n",
              "      <td>0</td>\n",
              "      <td>debt_collection</td>\n",
              "      <td>bill visit time visit receiving insurance addi...</td>\n",
              "    </tr>\n",
              "    <tr>\n",
              "      <th>1</th>\n",
              "      <td>1</td>\n",
              "      <td>6</td>\n",
              "      <td>credit_card</td>\n",
              "      <td>issue payment time got dinged even though requ...</td>\n",
              "    </tr>\n",
              "    <tr>\n",
              "      <th>2</th>\n",
              "      <td>2</td>\n",
              "      <td>8</td>\n",
              "      <td>credit_reporting</td>\n",
              "      <td>avictimof possibly even fraudulent misinformat...</td>\n",
              "    </tr>\n",
              "    <tr>\n",
              "      <th>3</th>\n",
              "      <td>3</td>\n",
              "      <td>10</td>\n",
              "      <td>credit_reporting</td>\n",
              "      <td>inquiry credit report fraudulent ssn credit re...</td>\n",
              "    </tr>\n",
              "    <tr>\n",
              "      <th>4</th>\n",
              "      <td>4</td>\n",
              "      <td>12</td>\n",
              "      <td>credit_reporting</td>\n",
              "      <td>may concern filing complaint experian wrote le...</td>\n",
              "    </tr>\n",
              "  </tbody>\n",
              "</table>\n",
              "</div>\n",
              "      <button class=\"colab-df-convert\" onclick=\"convertToInteractive('df-3981d272-9649-44ff-9550-10018d65341f')\"\n",
              "              title=\"Convert this dataframe to an interactive table.\"\n",
              "              style=\"display:none;\">\n",
              "        \n",
              "  <svg xmlns=\"http://www.w3.org/2000/svg\" height=\"24px\"viewBox=\"0 0 24 24\"\n",
              "       width=\"24px\">\n",
              "    <path d=\"M0 0h24v24H0V0z\" fill=\"none\"/>\n",
              "    <path d=\"M18.56 5.44l.94 2.06.94-2.06 2.06-.94-2.06-.94-.94-2.06-.94 2.06-2.06.94zm-11 1L8.5 8.5l.94-2.06 2.06-.94-2.06-.94L8.5 2.5l-.94 2.06-2.06.94zm10 10l.94 2.06.94-2.06 2.06-.94-2.06-.94-.94-2.06-.94 2.06-2.06.94z\"/><path d=\"M17.41 7.96l-1.37-1.37c-.4-.4-.92-.59-1.43-.59-.52 0-1.04.2-1.43.59L10.3 9.45l-7.72 7.72c-.78.78-.78 2.05 0 2.83L4 21.41c.39.39.9.59 1.41.59.51 0 1.02-.2 1.41-.59l7.78-7.78 2.81-2.81c.8-.78.8-2.07 0-2.86zM5.41 20L4 18.59l7.72-7.72 1.47 1.35L5.41 20z\"/>\n",
              "  </svg>\n",
              "      </button>\n",
              "      \n",
              "  <style>\n",
              "    .colab-df-container {\n",
              "      display:flex;\n",
              "      flex-wrap:wrap;\n",
              "      gap: 12px;\n",
              "    }\n",
              "\n",
              "    .colab-df-convert {\n",
              "      background-color: #E8F0FE;\n",
              "      border: none;\n",
              "      border-radius: 50%;\n",
              "      cursor: pointer;\n",
              "      display: none;\n",
              "      fill: #1967D2;\n",
              "      height: 32px;\n",
              "      padding: 0 0 0 0;\n",
              "      width: 32px;\n",
              "    }\n",
              "\n",
              "    .colab-df-convert:hover {\n",
              "      background-color: #E2EBFA;\n",
              "      box-shadow: 0px 1px 2px rgba(60, 64, 67, 0.3), 0px 1px 3px 1px rgba(60, 64, 67, 0.15);\n",
              "      fill: #174EA6;\n",
              "    }\n",
              "\n",
              "    [theme=dark] .colab-df-convert {\n",
              "      background-color: #3B4455;\n",
              "      fill: #D2E3FC;\n",
              "    }\n",
              "\n",
              "    [theme=dark] .colab-df-convert:hover {\n",
              "      background-color: #434B5C;\n",
              "      box-shadow: 0px 1px 3px 1px rgba(0, 0, 0, 0.15);\n",
              "      filter: drop-shadow(0px 1px 2px rgba(0, 0, 0, 0.3));\n",
              "      fill: #FFFFFF;\n",
              "    }\n",
              "  </style>\n",
              "\n",
              "      <script>\n",
              "        const buttonEl =\n",
              "          document.querySelector('#df-3981d272-9649-44ff-9550-10018d65341f button.colab-df-convert');\n",
              "        buttonEl.style.display =\n",
              "          google.colab.kernel.accessAllowed ? 'block' : 'none';\n",
              "\n",
              "        async function convertToInteractive(key) {\n",
              "          const element = document.querySelector('#df-3981d272-9649-44ff-9550-10018d65341f');\n",
              "          const dataTable =\n",
              "            await google.colab.kernel.invokeFunction('convertToInteractive',\n",
              "                                                     [key], {});\n",
              "          if (!dataTable) return;\n",
              "\n",
              "          const docLinkHtml = 'Like what you see? Visit the ' +\n",
              "            '<a target=\"_blank\" href=https://colab.research.google.com/notebooks/data_table.ipynb>data table notebook</a>'\n",
              "            + ' to learn more about interactive tables.';\n",
              "          element.innerHTML = '';\n",
              "          dataTable['output_type'] = 'display_data';\n",
              "          await google.colab.output.renderOutput(dataTable, element);\n",
              "          const docLink = document.createElement('div');\n",
              "          docLink.innerHTML = docLinkHtml;\n",
              "          element.appendChild(docLink);\n",
              "        }\n",
              "      </script>\n",
              "    </div>\n",
              "  </div>\n",
              "  "
            ]
          },
          "metadata": {},
          "execution_count": 45
        }
      ],
      "source": [
        "df = df.reset_index()\n",
        "for i in tqdm(range(len(df))):\n",
        "    comp_processed = process_txt(df['narrative'].loc[i])\n",
        "    cmpl = grouping(comp_processed)\n",
        "    df['narrative'][i] = cmpl\n",
        "df.head()"
      ]
    },
    {
      "cell_type": "code",
      "source": [
        "# Saving the processed data into csv file\n",
        "df.to_csv('processed_train.csv')"
      ],
      "metadata": {
        "id": "O-mghoYjpqnC"
      },
      "execution_count": null,
      "outputs": []
    },
    {
      "cell_type": "code",
      "source": [
        "catogary_count = df['product'].value_counts()\n",
        "plot = catogary_count.plot(kind='pie')\n",
        "plot.set_title(\"Catogary distribution\")"
      ],
      "metadata": {
        "colab": {
          "base_uri": "https://localhost:8080/",
          "height": 281
        },
        "id": "gxTH6z3Dyduo",
        "outputId": "9e203f32-96dc-4fee-c645-e34c136e2a74"
      },
      "execution_count": null,
      "outputs": [
        {
          "output_type": "execute_result",
          "data": {
            "text/plain": [
              "Text(0.5, 1.0, 'Catogary distribution')"
            ]
          },
          "metadata": {},
          "execution_count": 59
        },
        {
          "output_type": "display_data",
          "data": {
            "text/plain": [
              "<Figure size 432x288 with 1 Axes>"
            ],
            "image/png": "[encoded data removed]"
          },
          "metadata": {}
        }
      ]
    },
    {
      "cell_type": "markdown",
      "source": [
        "From the above graph we can see the class imbalance as we can observe that we have more credit reporting and retail banking is the least. We must keep this mind and address this in building our model."
      ],
      "metadata": {
        "id": "ge7o0kpfpTci"
      }
    },
    {
      "cell_type": "code",
      "source": [
        "# downloading data for testing the data. From 2022-11-01 to 2021-11-01 from same API\n",
        "TEST_URL = \"https://www.consumerfinance.gov/data-research/consumer-complaints/search/api/v1/?date_received_max=2022-11-01&date_received_min=2021-11-01&field=all&format=csv&no_aggs=true&size=1171706&sort=created_date_desc\"\n",
        "r = requests.get(TEST_URL)\n",
        "open('data_test.csv', 'wb').write(r.content)"
      ],
      "metadata": {
        "colab": {
          "base_uri": "https://localhost:8080/"
        },
        "id": "k03zIoWRzuiE",
        "outputId": "54757c1f-54d5-444c-cbf2-6df7c491f137"
      },
      "execution_count": null,
      "outputs": [
        {
          "output_type": "execute_result",
          "data": {
            "text/plain": [
              "536241663"
            ]
          },
          "metadata": {},
          "execution_count": 60
        }
      ]
    },
    {
      "cell_type": "code",
      "source": [
        "df_test_orig = pd.read_csv('data_test.csv')\n",
        "df_test = df_test_orig.copy()\n",
        "df_test = df_test.dropna(subset=['Consumer complaint narrative'])\n",
        "df_test = df_test[['Product', 'Consumer complaint narrative']]\n",
        "df_test = df_test.reset_index()\n",
        "df_test = df_test.rename(columns={\"Product\": \"product\",  \"Consumer complaint narrative\": \"narrative\"})"
      ],
      "metadata": {
        "id": "ALppspXW0Bbl"
      },
      "execution_count": null,
      "outputs": []
    },
    {
      "cell_type": "code",
      "source": [
        "df_test['product'].replace({'Credit reporting, credit repair services, or other personal consumer reports': 'credit_reporting',\n",
        "                       'Credit reporting': 'credit_reporting',\n",
        "                       'Debt collection': 'debt_collection',\n",
        "                       'Credit card or prepaid card': 'credit_card',\n",
        "                       'Prepaid card': 'credit_card',\n",
        "                       'Credit card': 'credit_card',\n",
        "                       'Mortgage': 'mortgage',\n",
        "                       'Checking or savings account': 'retail_banking',\n",
        "                       'Money transfer, virtual currency, or money service': 'retail_banking',\n",
        "                       'Other financial service':'retail_banking',\n",
        "                       'Virtual currency':'retail_banking',\n",
        "                       'Money transfers':'retail_banking',\n",
        "                       'Bank account or service': 'retail_banking',\n",
        "                       'Vehicle loan or lease': 'loans',\n",
        "                       'Consumer Loan': 'loans',\n",
        "                       'Payday loan': 'loans',\n",
        "                       'Payday loan, title loan, or personal loan': 'loans',\n",
        "                       'Student loan': 'loans'}, inplace=True)\n",
        "df_test['product'].replace({'mortgage': 'mortgages_and_loans',\n",
        "                       'loans': 'mortgages_and_loans'}, inplace=True)\n",
        "df_test['product'].value_counts()"
      ],
      "metadata": {
        "colab": {
          "base_uri": "https://localhost:8080/"
        },
        "id": "cfwvU-N-0lJR",
        "outputId": "762ade8d-33e2-4110-836f-bb684429cf6e"
      },
      "execution_count": null,
      "outputs": [
        {
          "output_type": "execute_result",
          "data": {
            "text/plain": [
              "credit_reporting       196098\n",
              "debt_collection         30894\n",
              "retail_banking          23161\n",
              "mortgages_and_loans     22741\n",
              "credit_card             19440\n",
              "Name: product, dtype: int64"
            ]
          },
          "metadata": {},
          "execution_count": 66
        }
      ]
    },
    {
      "cell_type": "code",
      "source": [
        "# Saving the processed data into csv file\n",
        "for i in tqdm(range(len(df_test))):\n",
        "    processed_narr = process_narrative(df_test['narrative'].loc[i])\n",
        "    narr = make_lemma_and_concat(processed_narr)\n",
        "    df_test['narrative'].loc[i] = narr"
      ],
      "metadata": {
        "colab": {
          "base_uri": "https://localhost:8080/"
        },
        "id": "zJIaaZFx0uzu",
        "outputId": "0aa6638e-c8e0-4bca-82ff-7488c0bf1c22"
      },
      "execution_count": null,
      "outputs": [
        {
          "output_type": "stream",
          "name": "stderr",
          "text": [
            "100%|██████████| 292334/292334 [44:43<00:00, 108.93it/s]\n"
          ]
        }
      ]
    }
  ],
  "metadata": {
    "colab": {
      "provenance": []
    },
    "kernelspec": {
      "display_name": "Python 3",
      "language": "python",
      "name": "python3"
    },
    "language_info": {
      "codemirror_mode": {
        "name": "ipython",
        "version": 3
      },
      "file_extension": ".py",
      "mimetype": "text/x-python",
      "name": "python",
      "nbconvert_exporter": "python",
      "pygments_lexer": "ipython3",
      "version": "3.6.9"
    },
    "toc-autonumbering": false,
    "toc-showcode": false,
    "toc-showmarkdowntxt": false,
    "varInspector": {
      "cols": {
        "lenName": 16,
        "lenType": 16,
        "lenVar": 40
      },
      "kernels_config": {
        "python": {
          "delete_cmd_postfix": "",
          "delete_cmd_prefix": "del ",
          "library": "var_list.py",
          "varRefreshCmd": "print(var_dic_list())"
        },
        "r": {
          "delete_cmd_postfix": ") ",
          "delete_cmd_prefix": "rm(",
          "library": "var_list.r",
          "varRefreshCmd": "cat(var_dic_list()) "
        }
      },
      "types_to_exclude": [
        "module",
        "function",
        "builtin_function_or_method",
        "instance",
        "_Feature"
      ],
      "window_display": false
    }
  },
  "nbformat": 4,
  "nbformat_minor": 0
}